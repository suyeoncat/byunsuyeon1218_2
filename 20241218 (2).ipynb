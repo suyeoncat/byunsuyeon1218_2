{
 "cells": [
  {
   "cell_type": "markdown",
   "id": "7c4031c4",
   "metadata": {},
   "source": [
    "# 과제 1 – 힙을 이용해 생일 데이터를 저장하고 생일이 느린 순서로 10명 출력"
   ]
  },
  {
   "cell_type": "code",
   "execution_count": null,
   "id": "83a5dab3",
   "metadata": {},
   "outputs": [],
   "source": [
    "import pandas as pd\n",
    "import heapq\n",
    "\n",
    "# CSV 파일 불러오기 (현재 디렉토리에 있어야 함)\n",
    "file_path = \"DS_Birthdaydata - 시트1.csv\"\n",
    "df = pd.read_csv(file_path)\n",
    "df_cleaned = df.dropna(subset=[\"생년월일8자리(예.20040101)\"]).copy()\n",
    "df_cleaned[\"생년월일\"] = df_cleaned[\"생년월일8자리(예.20040101)\"].astype(int)\n",
    "\n",
    "birthday_heap = []\n",
    "for _, row in df_cleaned.iterrows():\n",
    "    heapq.heappush(birthday_heap, (-row[\"생년월일\"], row[\"이름\"], row[\"학번\"]))\n",
    "\n",
    "top_10 = []\n",
    "for _ in range(min(10, len(birthday_heap))):\n",
    "    birth, name, sid = heapq.heappop(birthday_heap)\n",
    "    top_10.append((name, sid, -birth))\n",
    "\n",
    "# 출력\n",
    "print(\"생일이 늦은 순서 Top 10:\")\n",
    "for i, (name, sid, birth) in enumerate(top_10, 1):\n",
    "    print(f\"{i}. 이름: {name}, 학번: {sid}, 생년월일: {birth}\")"
   ]
  },
  {
   "cell_type": "code",
   "execution_count": null,
   "id": "8fbe99e6",
   "metadata": {},
   "outputs": [],
   "source": [
    "\n",
    "1. 이름: 홍서연, 학번: ******82, 생년월일: 20241282\n",
    "2. 이름: 신수민, 학번: ******22, 생년월일: 20051230\n",
    "3. 이름: 이서영, 학번: ******42, 생년월일: 20051225\n",
    "4. 이름: 강민주, 학번: ******69, 생년월일: 20051214\n",
    "5. 이름: 김민경, 학번: ******78, 생년월일: 20051202\n",
    "6. 이름: 이서영, 학번: ******41, 생년월일: 20051112\n",
    "7. 이름: 배시은, 학번: ******17, 생년월일: 20051102\n",
    "8. 이름: 김여원, 학번: ******87, 생년월일: 20051031\n",
    "9. 이름: 이서진, 학번: ******44, 생년월일: 20051028\n",
    "10. 이름: 서홍빈, 학번: ******64, 생년월일: 20051024"
   ]
  },
  {
   "cell_type": "markdown",
   "id": "daeeee82",
   "metadata": {},
   "source": [
    "# 과제 2 – 원형 이중 연결 리스트를 이용해 조원들의 이름과 생일 출력"
   ]
  },
  {
   "cell_type": "code",
   "execution_count": null,
   "id": "8c93b58e",
   "metadata": {},
   "outputs": [],
   "source": [
    "class Node:\n",
    "    def __init__(self, name, birthday):\n",
    "        self.name = name\n",
    "        self.birthday = birthday\n",
    "        self.prev = None\n",
    "        self.next = None\n",
    "\n",
    "class CircularDoublyLinkedList:\n",
    "    def __init__(self):\n",
    "        self.head = None\n",
    "\n",
    "    def append(self, name, birthday):\n",
    "        new_node = Node(name, birthday)\n",
    "        if not self.head:\n",
    "            self.head = new_node\n",
    "            new_node.next = new_node\n",
    "            new_node.prev = new_node\n",
    "        else:\n",
    "            tail = self.head.prev\n",
    "            tail.next = new_node\n",
    "            new_node.prev = tail\n",
    "            new_node.next = self.head\n",
    "            self.head.prev = new_node\n",
    "\n",
    "    def get_group_birthdays(self, group_members):\n",
    "        result = []\n",
    "        if not self.head:\n",
    "            return result\n",
    "        current = self.head\n",
    "        while True:\n",
    "            if current.name in group_members:\n",
    "                result.append((current.name, current.birthday))\n",
    "            current = current.next\n",
    "            if current == self.head:\n",
    "                break\n",
    "        return result\n",
    "\n",
    "group_members = [\"변수연\", \"김민경\", \"노은서\", \"박성연\", \"김보민\", \"정윤서\", \"김연진\", \"홍서연\", \"박서연\", \"오세은\"]\n",
    "cdll = CircularDoublyLinkedList()\n",
    "for _, row in df_cleaned.iterrows():\n",
    "    cdll.append(row[\"이름\"], row[\"생년월일\"])\n",
    "\n",
    "print(\"우리 조 조원 생일 목록:\")\n",
    "for name, birthday in cdll.get_group_birthdays(group_members):\n",
    "    print(f\"이름: {name}, 생년월일: {birthday}\")\n"
   ]
  },
  {
   "cell_type": "code",
   "execution_count": null,
   "id": "b87d28ef",
   "metadata": {},
   "outputs": [],
   "source": [
    "이름: 김민경, 생년월일: 20051202\n",
    "이름: 김보민, 생년월일: 20020911\n",
    "이름: 김연진, 생년월일: 20010826\n",
    "이름: 노은서, 생년월일: 20050316\n",
    "이름: 박서연, 생년월일: 20040428\n",
    "이름: 박성연, 생년월일: 20040514\n",
    "이름: 변수연, 생년월일: 20040802\n",
    "이름: 오세은, 생년월일: 20050328\n",
    "이름: 정윤서, 생년월일: 20030802\n",
    "이름: 홍서연, 생년월일: 20040611\n",
    "이름: 홍서연, 생년월일: 20241282"
   ]
  },
  {
   "cell_type": "markdown",
   "id": "db32181a",
   "metadata": {},
   "source": [
    "# 과제 3 – 힙 이론 연습문제에 대한 단답형 정답"
   ]
  },
  {
   "cell_type": "markdown",
   "id": "f3d39e4e",
   "metadata": {},
   "source": [
    "### 과제 3 – 힙 이론 연습문제 풀이 (텍스트 정답)\n",
    "\n",
    "**01.**  \n",
    "x. 최대 힙에서는 가장 큰 값은 항상 루트에 존재한다. 루트보다 깊은 곳에 더 큰 원소가 있을 수는 없다.\n",
    "\n",
    "**02.**  \n",
    "x. A[0]은 항상 가장 큰 값을 가지지만, A[n-1]이 항상 가장 작은 값을 가진다고 할 수는 없다.\n",
    "\n",
    "**03.**  \n",
    "힙에서 스며내리기를 하지 않고 그냥 넘어가는 원소(잎 노드)는 총 ⌊n/2⌋개다.\n",
    "\n",
    "**04.**  \n",
    "스며내리기 알고리즘의 최악의 경우 수행 시간은 Θ(log n)다.\n",
    "\n",
    "**05.**  \n",
    "힙에서 원소를 삭제할 때는 루트 노드를 제거하고, 마지막 노드와 교환한 후 스며내리기를 통해 힙을 재정렬한한다.\n",
    "\n",
    "**06.**  \n",
    "x, 비효율적이다. 기존 buildHeap()은 바텀업 방식으로 O(n)에 힙을 만들 수 있지만, 위에서부터 스며내리기를 반복하면 O(n log n) 시간이 필요하하다.\n",
    "\n",
    "**07.**  \n",
    "힙에서 어떤 원소의 값이 증가했을 때는 스며올리기(up-heap)를 통해 힙 조건을 복원할 수 있으며, 이 연산은 O(log n) 시간에 수행된다.\n"
   ]
  },
  {
   "cell_type": "markdown",
   "id": "ac176c5c",
   "metadata": {},
   "source": [
    "# 과제 4 – LeetCode 703번 Kth Largest Element in a Stream"
   ]
  },
  {
   "cell_type": "code",
   "execution_count": null,
   "id": "ef930d4b",
   "metadata": {},
   "outputs": [],
   "source": [
    "import heapq\n",
    "\n",
    "class KthLargest:\n",
    "    def __init__(self, k: int, nums: list[int]):\n",
    "        self.k = k\n",
    "        self.heap = nums\n",
    "        heapq.heapify(self.heap)\n",
    "        while len(self.heap) > k:\n",
    "            heapq.heappop(self.heap)\n",
    "\n",
    "    def add(self, val: int) -> int:\n",
    "        heapq.heappush(self.heap, val)\n",
    "        if len(self.heap) > self.k:\n",
    "            heapq.heappop(self.heap)\n",
    "        return self.heap[0]\n",
    "\n",
    "\n",
    "kth = KthLargest(3, [4, 5, 8, 2])\n",
    "print(\"add(3) →\", kth.add(3))   # 4\n",
    "print(\"add(5) →\", kth.add(5))   # 5\n",
    "print(\"add(10) →\", kth.add(10)) # 5\n",
    "print(\"add(9) →\", kth.add(9))   # 8\n",
    "print(\"add(4) →\", kth.add(4))   # 8\n"
   ]
  },
  {
   "cell_type": "code",
   "execution_count": null,
   "id": "5fae1d47",
   "metadata": {},
   "outputs": [],
   "source": [
    "add(3)  → 4  \n",
    "add(5)  → 5  \n",
    "add(10) → 5  \n",
    "add(9)  → 8  \n",
    "add(4)  → 8\n"
   ]
  }
 ],
 "metadata": {
  "language_info": {
   "name": "python"
  }
 },
 "nbformat": 4,
 "nbformat_minor": 5
}
